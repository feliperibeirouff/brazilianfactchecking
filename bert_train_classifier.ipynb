{
 "cells": [
  {
   "cell_type": "code",
   "execution_count": null,
   "metadata": {},
   "outputs": [],
   "source": [
    "#Fine tuning with the claims\n",
    "import bert_training\n",
    "\n",
    "path_dataset = \"bases/base3/base3.tsv\"\n",
    "\n",
    "use_evidence = False\n",
    "resume_from_last_checkpoint = False\n",
    "\n",
    "model = bert_training.BertModel('neuralmind/bert-base-portuguese-cased','neuralmind/bert-base-portuguese-cased', labels=False, \n",
    "                                use_evidence = use_evidence, resume_from_checkpoint = resume_from_last_checkpoint, task = 'LM')\n",
    "dataset = model.createDataset(path_dataset)\n",
    "\n",
    "model.fineTune(dataset, 'base3_finetuned')\n"
   ]
  },
  {
   "cell_type": "code",
   "execution_count": null,
   "metadata": {},
   "outputs": [],
   "source": [
    "#Without evidence\n",
    "\n",
    "import bert_training\n",
    "\n",
    "path_train = \"bases/base3/base3_train.tsv\"\n",
    "path_valid = \"bases/base3/base3_valid.tsv\"\n",
    "path_test = \"bases/base3/base3_test.tsv\"\n",
    "model_name = \"models/base3_finetun_sem_evidencia\"\n",
    "use_evidence = False\n",
    "resume_from_last_checkpoint = False\n",
    "\n",
    "bert_training.trainBertClassifier(path_train, path_valid, path_test, model_name, use_evidence, resume_from_last_checkpoint, base_model='models/base3_finetuned')"
   ]
  },
  {
   "cell_type": "code",
   "execution_count": null,
   "metadata": {},
   "outputs": [],
   "source": [
    "#With evidence\n",
    "\n",
    "import bert_training\n",
    "\n",
    "path_train = \"bases/base3/base3_train_3classes.tsv\"\n",
    "path_valid = \"bases/base3/base3_valid_3classes.tsv\"\n",
    "path_test = \"bases/base3/base3_test_3classes.tsv\"\n",
    "model_name = \"models/base3_finetuned_3classes\"\n",
    "use_evidence = True\n",
    "resume_from_last_checkpoint = False\n",
    "\n",
    "bert_training.trainBertClassifier(path_train, path_valid, path_test, model_name, use_evidence, resume_from_last_checkpoint, base_model='models/base3_finetuned')"
   ]
  }
 ],
 "metadata": {
  "kernelspec": {
   "display_name": "ia",
   "language": "python",
   "name": "python3"
  },
  "language_info": {
   "codemirror_mode": {
    "name": "ipython",
    "version": 3
   },
   "file_extension": ".py",
   "mimetype": "text/x-python",
   "name": "python",
   "nbconvert_exporter": "python",
   "pygments_lexer": "ipython3",
   "version": "3.6.2"
  },
  "orig_nbformat": 4,
  "vscode": {
   "interpreter": {
    "hash": "9a5609854b1d1af0719aa43b8184aabedc7c5a84215f90de6c4b3f051bd446ff"
   }
  }
 },
 "nbformat": 4,
 "nbformat_minor": 2
}
